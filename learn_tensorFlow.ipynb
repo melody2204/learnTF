{
  "nbformat": 4,
  "nbformat_minor": 0,
  "metadata": {
    "colab": {
      "name": "learn_tensorFlow.ipynb",
      "provenance": [],
      "collapsed_sections": []
    },
    "kernelspec": {
      "name": "python3",
      "display_name": "Python 3"
    },
    "language_info": {
      "name": "python"
    }
  },
  "cells": [
    {
      "cell_type": "code",
      "execution_count": null,
      "metadata": {
        "colab": {
          "base_uri": "https://localhost:8080/"
        },
        "id": "ek1mjEYThk8O",
        "outputId": "6c5e849f-151f-437c-f081-ef57e90a4bb4"
      },
      "outputs": [
        {
          "output_type": "stream",
          "name": "stdout",
          "text": [
            "TensorFlow version: 2.8.0\n"
          ]
        }
      ],
      "source": [
        "import tensorflow as tf\n",
        "print(\"TensorFlow version:\", tf.__version__)\n",
        "\n",
        "import numpy as np\n",
        "import pandas as pd"
      ]
    },
    {
      "cell_type": "code",
      "source": [
        "# linear case y= x*a + b\n",
        "model = tf.keras.Sequential([tf.keras.layers.Dense(units=1, input_shape=[1])])\n",
        "model.compile(optimizer='sgd', loss='mean_squared_error')\n",
        "xs = np.array([-1, 0, 1, 2, 3, 4], dtype=float)\n",
        "ys = np.array([-3, -1, 1, 3, 5, 7], dtype=float)\n",
        "\n",
        "model.fit(xs, ys, epochs=1000)\n",
        "print(model.predict([10.0]))"
      ],
      "metadata": {
        "id": "Vhpdh5nZhulW"
      },
      "execution_count": null,
      "outputs": []
    },
    {
      "cell_type": "code",
      "source": [
        "#visualize mnist the data\n",
        "import matplotlib.pyplot as plt\n",
        "\n",
        "idx = 0\n",
        "np.set_printoptions(linewidth=320)\n",
        "\n",
        "fs_mnist = tf.keras.datasets.fashion_mnist\n",
        "(train_imgs, train_labels), (test_imgs, test_labels) = fs_mnist.load_data()\n",
        "print(f'label: {train_labels[idx]}')\n",
        "print(f'\\n image: \\n {train_imgs[idx]}')\n",
        "\n",
        "plt.imshow(train_imgs[idx])"
      ],
      "metadata": {
        "id": "yFznhWjKFh4O"
      },
      "execution_count": null,
      "outputs": []
    },
    {
      "cell_type": "code",
      "source": [
        "class myModel:\n",
        "  def denseModel(self):\n",
        "      self.model = tf.keras.Sequential([\n",
        "      tf.keras.layers.Flatten(),\n",
        "      tf.keras.layers.Dense(128, activation=tf.nn.relu),\n",
        "      tf.keras.layers.Dense(10, activation=tf.nn.softmax)\n",
        "    ])\n",
        "\n",
        "  def modelConv(self):\n",
        "      self.model = tf.keras.Sequential([\n",
        "      #conv layers\n",
        "      tf.keras.layers.Conv2D(32, (3,3), activation='relu', input_shape=(28,28,1)),\n",
        "      tf.keras.layers.MaxPooling2D(2,2),\n",
        "      tf.keras.layers.Conv2D(32, (3,3), activation='relu'),\n",
        "      tf.keras.layers.MaxPooling2D(2,2),\n",
        "      #dense layers\n",
        "      tf.keras.layers.Flatten(),\n",
        "      tf.keras.layers.Dense(128, activation=tf.nn.relu),\n",
        "      tf.keras.layers.Dense(10, activation=tf.nn.softmax)           \n",
        "    ])"
      ],
      "metadata": {
        "id": "OJFfDuJX6XiZ"
      },
      "execution_count": null,
      "outputs": []
    },
    {
      "cell_type": "code",
      "source": [
        " # callback\n",
        "class callBack(tf.keras.callbacks.Callback):\n",
        "  def on_epoch_end(self, epoch, logs={}):\n",
        "    if(logs.get('loss') < 0.4):\n",
        "      print(\"\\n the loss is less then 0.4, so the training is canceled\")\n",
        "      self.model.stop_training = True\n"
      ],
      "metadata": {
        "id": "TixFpKR1JfKO"
      },
      "execution_count": null,
      "outputs": []
    },
    {
      "cell_type": "code",
      "source": [
        "callBack = callBack()\n",
        "fs_mnist = tf.keras.datasets.fashion_mnist\n",
        "(train_imgs, train_labels), (test_imgs, test_labels) = fs_mnist.load_data()\n",
        "\n",
        "# normalize data\n",
        "train_imgs = train_imgs / 255.0\n",
        "test_imgs = test_imgs / 255.0\n",
        "\n",
        "#build model\n",
        "model = tf.keras.Sequential([\n",
        "  #conv layers\n",
        "  tf.keras.layers.Conv2D(32, (3,3), activation='relu', input_shape=(28,28,1)),\n",
        "  tf.keras.layers.MaxPooling2D(2,2),\n",
        "  tf.keras.layers.Conv2D(32, (3,3), activation='relu'),\n",
        "  tf.keras.layers.MaxPooling2D(2,2),\n",
        "  #dense layers\n",
        "  tf.keras.layers.Flatten(),\n",
        "  tf.keras.layers.Dense(128, activation=tf.nn.relu),\n",
        "  tf.keras.layers.Dense(10, activation=tf.nn.softmax)           \n",
        "])\n",
        "\n",
        "from tensorflow.python.eager.monitoring import Metric\n",
        "model.compile(optimizer=tf.optimizers.Adam(),\n",
        "              loss='sparse_categorical_crossentropy',\n",
        "              metrics=['accuracy'])\n",
        "\n",
        "#fit and evaluate\n",
        "model.fit(train_imgs, train_labels, epochs=10, callbacks=[callBack])\n",
        "model.evaluate(test_imgs, test_labels)"
      ],
      "metadata": {
        "id": "hWaPjyP0DCYG"
      },
      "execution_count": null,
      "outputs": []
    },
    {
      "cell_type": "code",
      "source": [
        "classification = model.predict(test_imgs)\n",
        "print(classification[0])"
      ],
      "metadata": {
        "id": "FR5SIo0zJEOb"
      },
      "execution_count": null,
      "outputs": []
    },
    {
      "cell_type": "code",
      "source": [
        "#visualize the conv filters\n",
        "import matplotlib.pyplot as plt\n",
        "from tensorflow.keras import models\n",
        "\n",
        "print(f'test label:{test_labels[:100]}')\n",
        "\n",
        "f, axarr = plt.subplots(3,4)\n",
        "FIRST_IMG = 0\n",
        "SECOND_IMG = 23 \n",
        "THIRD_IMG = 28 \n",
        "CONV_NUM = 1 \n",
        "\n",
        "layer_outputs = [layer.output for layer in model.layers]\n",
        "activation_model = tf.keras.models.Model(inputs=model.input, outputs=layer_outputs)\n",
        "\n",
        "for x in range(0,4):\n",
        "  f1 = activation_model.predict(test_imgs[FIRST_IMG].reshape(1,28,28,1))[x]\n",
        "  print(f1.shape)\n",
        "  axarr[0,x].imshow(f1[0, :, :, CONV_NUM], cmap='inferno')\n",
        "  axarr[0,x].grid(False)\n",
        "\n",
        "  f2 = activation_model.predict(test_imgs[SECOND_IMG].reshape(1,28,28,1))[x]\n",
        "  axarr[1,x].imshow(f2[0, :, :, CONV_NUM], cmap='inferno')\n",
        "  axarr[1,x].grid(False)\n",
        "\n",
        "  f3 = activation_model.predict(test_imgs[THIRD_IMG].reshape(1,28,28,1))[x]\n",
        "  axarr[2,x].imshow(f3[0, :, :, CONV_NUM], cmap='inferno')\n",
        "  axarr[2,x].grid(False)\n"
      ],
      "metadata": {
        "id": "8GzJ5zwuqxHM"
      },
      "execution_count": null,
      "outputs": []
    },
    {
      "cell_type": "code",
      "source": [
        "# visualize affects of conv filters\n",
        "from scipy import misc\n",
        "import matplotlib.pyplot as plt\n",
        "import numpy as np\n",
        "\n",
        "\n",
        "# load the ascent image\n",
        "ascent_image = misc.ascent()\n",
        "\n",
        "# Copy image to a numpy array\n",
        "image_transformed = np.copy(ascent_image)\n",
        "\n",
        "# Get the dimensions of the image\n",
        "size_x = image_transformed.shape[0]\n",
        "size_y = image_transformed.shape[1]\n",
        "\n",
        "# Experiment with different values and see the effect\n",
        "filter = [ [0, 1, 0], [1, -4, 1], [0, 1, 0]]\n",
        "\n",
        "# A couple more filters to try for fun!\n",
        "filter = [ [-1, -2, -1], [0, 0, 0], [1, 2, 1]]\n",
        "filter = [ [-1, 0, 1], [-2, 0, 2], [-1, 0, 1]]\n",
        "\n",
        "# If all the digits in the filter don't add up to 0 or 1, you \n",
        "# should probably do a weight to get it to do so\n",
        "# so, for example, if your weights are 1,1,1 1,2,1 1,1,1\n",
        "# They add up to 10, so you would set a weight of .1 if you want to normalize them\n",
        "weight  = 1\n",
        "\n",
        "# Iterate over the image\n",
        "for x in range(1,size_x-1):\n",
        "  for y in range(1,size_y-1):\n",
        "      convolution = np.sum(ascent_image[(x-1):(x+2):1, (y-1):(y+2):1] * filter)\n",
        "      \n",
        "      # Multiply by weight\n",
        "      convolution = convolution * weight   \n",
        "      \n",
        "      # Check the boundaries of the pixel values\n",
        "      if(convolution<0):\n",
        "        convolution=0\n",
        "      if(convolution>255):\n",
        "        convolution=255\n",
        "\n",
        "      # Load into the transformed image\n",
        "      image_transformed[x, y] = convolution\n",
        "\n",
        "# Assign dimensions half the size of the original image\n",
        "new_x = int(size_x/2)\n",
        "new_y = int(size_y/2)\n",
        "\n",
        "# Create blank image with reduced dimensions\n",
        "newImage = np.zeros((new_x, new_y))\n",
        "\n",
        "# Iterate over the image\n",
        "for x in range(0, size_x, 2):\n",
        "  for y in range(0, size_y, 2):\n",
        "    \n",
        "    # Store all the pixel values in the (2,2) pool\n",
        "    pixels = []\n",
        "    pixels.append(image_transformed[x, y])\n",
        "    pixels.append(image_transformed[x+1, y])\n",
        "    pixels.append(image_transformed[x, y+1])\n",
        "    pixels.append(image_transformed[x+1, y+1])\n",
        "\n",
        "    # Get only the largest value and assign to the reduced image\n",
        "    newImage[int(x/2),int(y/2)] = max(pixels)\n",
        "\n",
        "# Visualize the image\n",
        "plt.grid(False)\n",
        "plt.gray()\n",
        "plt.axis('off')\n",
        "plt.imshow(ascent_image)\n",
        "plt.show()\n",
        "\n",
        "plt.gray()\n",
        "plt.grid(False)\n",
        "plt.imshow(image_transformed)\n",
        "plt.show()  \n",
        "\n",
        "plt.gray()\n",
        "plt.grid(False)\n",
        "plt.imshow(newImage)\n",
        "plt.show()     "
      ],
      "metadata": {
        "id": "BiA6wDfI4UNb"
      },
      "execution_count": null,
      "outputs": []
    }
  ]
}